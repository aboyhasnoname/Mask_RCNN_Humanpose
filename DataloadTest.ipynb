{
 "cells": [
  {
   "cell_type": "code",
   "execution_count": 56,
   "metadata": {},
   "outputs": [],
   "source": [
    "import json\n",
    "import skimage\n",
    "import os\n",
    "import sys\n",
    "import random\n",
    "import math\n",
    "import numpy as np\n",
    "import skimage.io\n",
    "import matplotlib\n",
    "import matplotlib.pyplot as plt\n",
    "\n",
    "import coco\n",
    "import utils\n",
    "import model as modellib\n",
    "#import visualize\n",
    "from model import log\n",
    "dataset_dir = r'C:\\Users\\Zed_Luz\\OneDrive\\3-MEE\\18-JHU\\12-Work\\5-MosquitoRecog\\7-data'#'/media/jm/000C65DB000784DF/workspace/ws_MaskRCNN/Mask_RCNN/samples/mosquitoes/data/'\n"
   ]
  },
  {
   "cell_type": "code",
   "execution_count": 57,
   "metadata": {},
   "outputs": [],
   "source": [
    "subset = 'train'\n",
    "assert subset in [\"train\", \"val\"]\n"
   ]
  },
  {
   "cell_type": "code",
   "execution_count": 58,
   "metadata": {},
   "outputs": [],
   "source": [
    "if subset=='val':\n",
    "    annotations = json.load(open(os.path.join(dataset_dir, \"annotations\",\"train.json\")))\n",
    "else:\n",
    "    annotations = json.load(open(os.path.join(dataset_dir, \"annotations\",\"val.json\")))\n",
    "\n"
   ]
  },
  {
   "cell_type": "code",
   "execution_count": 59,
   "metadata": {},
   "outputs": [],
   "source": [
    "annotations = list(annotations.values())\n"
   ]
  },
  {
   "cell_type": "code",
   "execution_count": 60,
   "metadata": {},
   "outputs": [],
   "source": [
    "annotations = [a for a in annotations if a['regions']]\n",
    "#print(annotations)\n",
    "num_mos = list()"
   ]
  },
  {
   "cell_type": "code",
   "execution_count": 61,
   "metadata": {},
   "outputs": [
    {
     "name": "stdout",
     "output_type": "stream",
     "text": [
      "num of mos in every pic: 3\n",
      "num of mos in every pic: 4\n",
      "num of mos in every pic: 3\n",
      "num of mos in every pic: 4\n",
      "num of mos in every pic: 4\n",
      "num of mos in every pic: 5\n",
      "num of mos in every pic: 3\n",
      "num of mos in every pic: 4\n",
      "num of mos in every pic: 4\n",
      "num of mos in every pic: 3\n",
      "num of mos in every pic: 4\n",
      "num of mos in every pic: 3\n",
      "num of mos in every pic: 3\n",
      "num of mos in every pic: 5\n",
      "num of mos in every pic: 4\n",
      "num of mos in every pic: 5\n",
      "num of mos in every pic: 4\n",
      "num of mos in every pic: 4\n",
      "num of mos in every pic: 4\n",
      "num of mos in every pic: 3\n",
      "num of mos in every pic: 3\n",
      "num of mos in every pic: 5\n",
      "num of mos in every pic: 5\n",
      "num of mos in every pic: 6\n",
      "num of mos in every pic: 6\n",
      "num of mos in every pic: 5\n",
      "num of mos in every pic: 4\n",
      "num of mos in every pic: 3\n",
      "num of mos in every pic: 5\n",
      "num of mos in every pic: 5\n",
      "num of mos in every pic: 4\n",
      "num of mos in every pic: 5\n",
      "num of mos in every pic: 6\n",
      "num of mos in every pic: 5\n",
      "num of mos in every pic: 5\n",
      "num of mos in every pic: 5\n",
      "num of mos in every pic: 5\n",
      "num of mos in every pic: 5\n",
      "num of mos in every pic: 5\n",
      "num of mos in every pic: 3\n",
      "num of mos in every pic: 5\n",
      "num of mos in every pic: 4\n",
      "num of mos in every pic: 5\n",
      "num of mos in every pic: 4\n"
     ]
    }
   ],
   "source": [
    "for a in annotations:\n",
    "            # load_mask() needs the image size to convert polygons to masks.\n",
    "            # Unfortunately, VIA doesn't include it in JSON, so we must read\n",
    "            # the image. This is only managable since the dataset is tiny.\n",
    "    num_mosquitoes = 0\n",
    "    image_path = os.path.join(dataset_dir, \"train\", a['filename'])\n",
    "    image = skimage.io.imread(image_path)\n",
    "    height, width = image.shape[:2]\n",
    "    num_mosquitoes = 0\n",
    "    cl = list()\n",
    "    bb = list()\n",
    "    kp = list()\n",
    "    for index, attr in enumerate(a['regions']):\n",
    "        #print(index,attr)\n",
    "        if (index%5==0):\n",
    "            if not 'class' in attr['region_attributes']:\n",
    "                attr['region_attributes'].setdefault('class','1')# if the 'class' is missing, fill out automatically, but this error seldom happens\n",
    "            if not attr['region_attributes']['class']:#if the va;ues of 'class' is missing, fill out.\n",
    "                cl.append(str(random.randint(1,2)))\n",
    "            if attr['region_attributes']['class']:\n",
    "                cl.append(attr['region_attributes']['class'])\n",
    "            if 'y' in attr['shape_attributes']:# eror: if a extral point is marked without sense\n",
    "                bb.append([attr['shape_attributes']['y'], attr['shape_attributes']['x'], attr['shape_attributes']['height'], attr['shape_attributes']['width']])\n",
    "        elif(index%5==1):\n",
    "            pass\n",
    "        else:\n",
    "            kp.append((attr['shape_attributes']['cy'],attr['shape_attributes']['cx']))\n",
    "            #kp.append([attr.get(['shape_attributes']['cy']),attr['shape_attributes']['cx']])\n",
    "        num_mosquitoes +=1\n",
    "    num_mosquitoes = int(num_mosquitoes/5)\n",
    "    num_mos.append(num_mosquitoes)\n",
    "    print('num of mos in every pic:',num_mosquitoes)"
   ]
  },
  {
   "cell_type": "code",
   "execution_count": 62,
   "metadata": {},
   "outputs": [
    {
     "name": "stdout",
     "output_type": "stream",
     "text": [
      "5_0192_1.jpg \n",
      " index: 19 \n",
      " {'shape_attributes': {'name': 'point', 'cx': 1208, 'cy': 723}, 'region_attributes': {}}\n",
      "44 ['2', '2', '2', '2'] [[355, 935, 143, 207], [232, 1382, 181, 187], [570, 565, 141, 176], [690, 1099, 194, 164]] [(419, 1114), (457, 1068), (427, 958), (363, 1500), (312, 1523), (266, 1410), (657, 720), (629, 685), (664, 580), (848, 1196), (815, 1145), (723, 1208)] 12\n"
     ]
    }
   ],
   "source": [
    "# if errors pops up, please run this section to locate where errors happen.\n",
    "print(a['filename'],'\\n','index:',index,'\\n',attr)\n",
    "print(len(num_mos),cl,bb,kp,len(kp))"
   ]
  },
  {
   "cell_type": "code",
   "execution_count": null,
   "metadata": {},
   "outputs": [],
   "source": []
  },
  {
   "cell_type": "code",
   "execution_count": 63,
   "metadata": {},
   "outputs": [
    {
     "name": "stdout",
     "output_type": "stream",
     "text": [
      "19 {'shape_attributes': {'name': 'point', 'cx': 1208, 'cy': 723}, 'region_attributes': {}} 5_0192_1.jpg\n",
      "num_pics: 44 \n",
      "num-mos in every pic: [3, 4, 3, 4, 4, 5, 3, 4, 4, 3, 4, 3, 3, 5, 4, 5, 4, 4, 4, 3, 3, 5, 5, 6, 6, 5, 4, 3, 5, 5, 4, 5, 6, 5, 5, 5, 5, 5, 5, 3, 5, 4, 5, 4]\n"
     ]
    }
   ],
   "source": [
    "print(index,attr,a['filename'])\n",
    "print('num_pics:',len(num_mos),'\\nnum-mos in every pic:',num_mos)\n"
   ]
  },
  {
   "cell_type": "code",
   "execution_count": 64,
   "metadata": {},
   "outputs": [
    {
     "name": "stdout",
     "output_type": "stream",
     "text": [
      "{'shape_attributes': {'name': 'point', 'cx': 1208, 'cy': 723}, 'region_attributes': {'class': '1'}}\n"
     ]
    }
   ],
   "source": [
    "attr['region_attributes'].setdefault('class','1')\n",
    "print(attr)"
   ]
  },
  {
   "cell_type": "code",
   "execution_count": 65,
   "metadata": {},
   "outputs": [
    {
     "name": "stdout",
     "output_type": "stream",
     "text": [
      "<class 'int'>\n"
     ]
    }
   ],
   "source": [
    "import random\n",
    "print(type(random.randint(1,2)))"
   ]
  },
  {
   "cell_type": "code",
   "execution_count": null,
   "metadata": {},
   "outputs": [],
   "source": []
  },
  {
   "cell_type": "code",
   "execution_count": null,
   "metadata": {},
   "outputs": [],
   "source": []
  },
  {
   "cell_type": "code",
   "execution_count": null,
   "metadata": {},
   "outputs": [],
   "source": []
  }
 ],
 "metadata": {
  "kernelspec": {
   "display_name": "Python 3",
   "language": "python",
   "name": "python3"
  },
  "language_info": {
   "codemirror_mode": {
    "name": "ipython",
    "version": 3
   },
   "file_extension": ".py",
   "mimetype": "text/x-python",
   "name": "python",
   "nbconvert_exporter": "python",
   "pygments_lexer": "ipython3",
   "version": "3.6.5"
  }
 },
 "nbformat": 4,
 "nbformat_minor": 2
}
